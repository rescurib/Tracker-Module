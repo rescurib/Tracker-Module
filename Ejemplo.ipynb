{
 "cells": [
  {
   "cell_type": "markdown",
   "metadata": {},
   "source": [
    "# Módulo de conversión de coordenadas para monturas altazimutales\n",
    "\n",
    "Este es un módulo basado en [Astropy](http://www.astropy.org/) que permite crear un objeto para una montura localizada en un punto sobre la Tierra el cual contiene métodos (funciones adaptadas a las caracteristicas del objeto) que retornan un array de coordenadas horizontales a partir de coorenadas ecuatoriales. También incluye métodos de seguimiento solar.\n",
    "\n",
    "El módulo no contiene rutinas de control de motores. Las funciones de conversión permiten crear referencias de control que pueden ser enviadas a un controlador.\n",
    "\n",
    "### Creación de objeto de montura\n",
    "\n"
   ]
  },
  {
   "cell_type": "code",
   "execution_count": 18,
   "metadata": {},
   "outputs": [],
   "source": [
    "import tracker as tr\n",
    "\n",
    "#Object creation\n",
    "Montura = tr.ElAzMount()\n",
    "\n",
    "#Set location (Puebla)\n",
    "Montura.setLocation(Lat='19d02m36s',Lon='-98d21m6.94s',Height = 2135)"
   ]
  },
  {
   "cell_type": "markdown",
   "metadata": {},
   "source": [
    "### Atributos de montura"
   ]
  },
  {
   "cell_type": "code",
   "execution_count": 10,
   "metadata": {},
   "outputs": [
    {
     "data": {
      "text/latex": [
       "$19^\\circ02{}^\\prime36{}^{\\prime\\prime}$"
      ],
      "text/plain": [
       "<Latitude 19.04333333 deg>"
      ]
     },
     "execution_count": 10,
     "metadata": {},
     "output_type": "execute_result"
    }
   ],
   "source": [
    "#Get latitude (astropy units type)\n",
    "Montura.Lat"
   ]
  },
  {
   "cell_type": "code",
   "execution_count": 11,
   "metadata": {},
   "outputs": [
    {
     "data": {
      "text/latex": [
       "$-98^\\circ21{}^\\prime06.94{}^{\\prime\\prime}$"
      ],
      "text/plain": [
       "<Longitude -98.35192778 deg>"
      ]
     },
     "execution_count": 11,
     "metadata": {},
     "output_type": "execute_result"
    }
   ],
   "source": [
    "#Get longitude (astropy units type)\n",
    "Montura.Lon"
   ]
  },
  {
   "cell_type": "code",
   "execution_count": 19,
   "metadata": {},
   "outputs": [
    {
     "data": {
      "text/latex": [
       "$2135 \\; \\mathrm{m}$"
      ],
      "text/plain": [
       "<Quantity 2135. m>"
      ]
     },
     "execution_count": 19,
     "metadata": {},
     "output_type": "execute_result"
    }
   ],
   "source": [
    "#Get height (astropy units type)\n",
    "Montura.Height"
   ]
  },
  {
   "cell_type": "code",
   "execution_count": 13,
   "metadata": {},
   "outputs": [
    {
     "name": "stdout",
     "output_type": "stream",
     "text": [
      "Mount location:\n",
      " Lat: 19.043333333333337 deg,\n",
      " Lon: -98.35192777777777 deg,\n",
      " Height: 2.134999998566077 m\n"
     ]
    }
   ],
   "source": [
    "#Print mount object\n",
    "print(Montura)"
   ]
  },
  {
   "cell_type": "markdown",
   "metadata": {},
   "source": [
    "### Conversión de coordenadas "
   ]
  },
  {
   "cell_type": "code",
   "execution_count": 14,
   "metadata": {},
   "outputs": [
    {
     "name": "stdout",
     "output_type": "stream",
     "text": [
      "Capella -- El: 40.64396670907645, Az: 314.98033942507635\n"
     ]
    }
   ],
   "source": [
    "#Current Capella position\n",
    "[El,Az] = Montura.eq2hor(DEC='45d59m56s',RA='05h16m41')\n",
    "print(\"Capella -- El: {}, Az: {}\".format(El,Az))"
   ]
  },
  {
   "cell_type": "markdown",
   "metadata": {},
   "source": [
    "### Seguimiento solar"
   ]
  },
  {
   "cell_type": "code",
   "execution_count": 15,
   "metadata": {},
   "outputs": [
    {
     "name": "stdout",
     "output_type": "stream",
     "text": [
      "Sun -- El: 58.30994558596945, Az: 283.72146357456893\n"
     ]
    }
   ],
   "source": [
    "#Current Sun position\n",
    "[Sun_El,Sun_Az] = Montura.SolarTracking()\n",
    "print(\"Sun -- El: {}, Az: {}\".format(Sun_El,Sun_Az))"
   ]
  },
  {
   "cell_type": "code",
   "execution_count": 17,
   "metadata": {},
   "outputs": [
    {
     "data": {
      "image/png": "[encoded data removed]",
      "text/plain": [
       "<Figure size 432x288 with 1 Axes>"
      ]
     },
     "metadata": {},
     "output_type": "display_data"
    }
   ],
   "source": [
    "from datetime import datetime\n",
    "import matplotlib.pyplot as plt\n",
    "\n",
    "#Sweep matrix\n",
    "sweep_center_date = datetime(2017,1,24,14,0,0)  \n",
    "[a,az] = Montura.Sun_Pos_by_date(sweep_center_date)\n",
    "m_az,m_el = Montura.sweep_matrix(sweep_center_date,11,11,0.3,0.3) \n",
    "\n",
    "fig = plt.figure()\n",
    "ax = fig.add_subplot(111)\n",
    "C = plt.Circle((az,a),radius=0.5,color='yellow',alpha=0.5)\n",
    "ax.add_patch(C)\n",
    "ax.scatter(az+m_az,a+m_el)\n",
    "ax.axis('equal')\n",
    "ax.set(xlim=(az-4.5,az+4.5), ylim=(a-4.5,a+4.5),)\n",
    "plt.grid(True)\n",
    "plt.xlabel('Azimut')\n",
    "plt.ylabel('Altura')\n",
    "plt.show()"
   ]
  }
 ],
 "metadata": {
  "kernelspec": {
   "display_name": "Python 3",
   "language": "python",
   "name": "python3"
  },
  "language_info": {
   "codemirror_mode": {
    "name": "ipython",
    "version": 3
   },
   "file_extension": ".py",
   "mimetype": "text/x-python",
   "name": "python",
   "nbconvert_exporter": "python",
   "pygments_lexer": "ipython3",
   "version": "3.6.4"
  }
 },
 "nbformat": 4,
 "nbformat_minor": 2
}
